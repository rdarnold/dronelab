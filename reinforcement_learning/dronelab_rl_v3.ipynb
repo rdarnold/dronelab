{
 "cells": [
  {
   "cell_type": "code",
   "execution_count": 114,
   "metadata": {},
   "outputs": [],
   "source": [
    "import socket\n",
    "import sys\n",
    "import os\n",
    "from pathlib import Path\n",
    "import pandas as pd\n",
    "import time\n",
    "from datetime import datetime \n",
    "from itertools import combinations_with_replacement\n",
    "import numpy as np\n",
    "\n",
    "import matplotlib.pyplot as plt\n",
    "import seaborn as sns\n"
   ]
  },
  {
   "cell_type": "markdown",
   "metadata": {},
   "source": [
    "# Section 1: Set up DroneLab.java"
   ]
  },
  {
   "cell_type": "markdown",
   "metadata": {},
   "source": [
    "## 1) Copy DroneLab into your home directory"
   ]
  },
  {
   "cell_type": "code",
   "execution_count": 146,
   "metadata": {},
   "outputs": [],
   "source": [
    "# Set up home directory and move dronelab\n",
    "new_directory =os.getenv(\"HOME\")+\"/dronelab\""
   ]
  },
  {
   "cell_type": "markdown",
   "metadata": {},
   "source": [
    "## 2) Configure initial experiment parameters, such as the # of Drones"
   ]
  },
  {
   "cell_type": "code",
   "execution_count": 149,
   "metadata": {},
   "outputs": [],
   "source": [
    "# Set up and configure experiment by modifying the Simulation Matrix File\n",
    "sim_matrix_dir =new_directory+\"/input/Simulation_Matrix.xlsx\"\n",
    "sim_df = pd.read_excel(sim_matrix_dir)"
   ]
  },
  {
   "cell_type": "code",
   "execution_count": 150,
   "metadata": {},
   "outputs": [
    {
     "data": {
      "text/html": [
       "<div>\n",
       "<style scoped>\n",
       "    .dataframe tbody tr th:only-of-type {\n",
       "        vertical-align: middle;\n",
       "    }\n",
       "\n",
       "    .dataframe tbody tr th {\n",
       "        vertical-align: top;\n",
       "    }\n",
       "\n",
       "    .dataframe thead th {\n",
       "        text-align: right;\n",
       "    }\n",
       "</style>\n",
       "<table border=\"1\" class=\"dataframe\">\n",
       "  <thead>\n",
       "    <tr style=\"text-align: right;\">\n",
       "      <th></th>\n",
       "      <th>Simulation</th>\n",
       "      <th>Batch ID</th>\n",
       "      <th>Relay</th>\n",
       "      <th>Social</th>\n",
       "      <th>Antisocial</th>\n",
       "      <th>Total</th>\n",
       "      <th>WiFi Range</th>\n",
       "    </tr>\n",
       "  </thead>\n",
       "  <tbody>\n",
       "    <tr>\n",
       "      <th>0</th>\n",
       "      <td>1</td>\n",
       "      <td>1</td>\n",
       "      <td>30</td>\n",
       "      <td>20</td>\n",
       "      <td>10</td>\n",
       "      <td>60</td>\n",
       "      <td>0.475</td>\n",
       "    </tr>\n",
       "  </tbody>\n",
       "</table>\n",
       "</div>"
      ],
      "text/plain": [
       "   Simulation  Batch ID  Relay  Social  Antisocial  Total  WiFi Range\n",
       "0           1         1     30      20          10     60       0.475"
      ]
     },
     "execution_count": 150,
     "metadata": {},
     "output_type": "execute_result"
    }
   ],
   "source": [
    "#View simulation matrix\n",
    "sim_df.head()\n",
    "\n",
    "#in batch one, there are 12 relay drones, 12 spiral drones and 0 anti-social drones,for a total of 24 drones\n",
    "#Social Drone definition: Drone with Form and Spiral behaviors\n",
    "#Relay Drone definition: Drones with Relay behaviors\n",
    "#Anti-social drone definition: Drones with Spiral and AntiSocial behaviors\n",
    "\n",
    "#All drones are given a set of behaviors in this priority:\n",
    "#Launch, Avoid, Climb, Recharge, Maintain Height, Spiral, Relay, Form, AntiSocial, Repel, Seek, Scatter, AssignedPath, Search, Wander\n",
    "\n",
    "#Most drones already start up with the Launch, Avoid, Climb and Recharge behaviors\n",
    "#\n"
   ]
  },
  {
   "cell_type": "markdown",
   "metadata": {},
   "source": [
    "## 3) Launch DroneLab in a new terminal"
   ]
  },
  {
   "cell_type": "code",
   "execution_count": 151,
   "metadata": {},
   "outputs": [
    {
     "name": "stdout",
     "output_type": "stream",
     "text": [
      "Port is open\n"
     ]
    }
   ],
   "source": [
    "#Find a free and open port 8000–8999\n",
    "Port_To_Test = 8007\n",
    "\n",
    "testSocket = socket.socket(socket.AF_INET, socket.SOCK_STREAM)\n",
    "location = ('localhost', Port_To_Test)\n",
    "result_of_check = testSocket.connect_ex(location)\n",
    "if result_of_check == 0:\n",
    "    print(\"Port is open\")\n",
    "else:\n",
    "    print(\"Port is NOT open\")"
   ]
  },
  {
   "cell_type": "markdown",
   "metadata": {},
   "source": [
    "Launch drone lab code in a new terminal. Replace /home/mosi in 1a & 1b with your own home directory\n",
    "\n",
    "1a. cd into $HOME/dronelab directory and make sure the code is compiled: /home/mosi/utils/jdk1.8.0_291/bin/javac @options_nix @classes\n",
    "\n",
    "1b. Specify the free port in the -Dport variable below and run: /home/mosi/utils/jdk1.8.0_291/bin/java -Dport=8007 -Dfile.encoding=UTF8 -Xmx128G -d64 -cp \"ext-master/netty-all-4.1.7.Final.jar:ext-master/commons-collections4-4.2.jar:ext-master/commons-compress-1.18.jar:ext-master/curvesapi-1.05.jar:ext-master/drive:ext-master/javax.json-1.0.4.jar:ext-master/javax.json-api-1.0.jar:ext-master/javax.servlet-api-3.1.0.jar:ext-master/poi-4.0.1.jar:ext-master/poi-examples-4.0.1.jar:ext-master/poi-excelant-4.0.1.jar:ext-master/poi-ooxml-4.0.1.jar:ext-master/poi-ooxml-schemas-4.0.1.jar:ext-master/poi-scratchpad-4.0.1.jar:ext-master/xmlbeans-3.0.2.jar:ext-master/jfxrt.jar:ext-master/javax.json-api-1.0.jar:/home/mosi/dronelab/bin:/home/mosi/utils/jdk1.8.0_291/bin/jre:/home/mosi/ext-master/*:.\" dronelab.DroneLab\n",
    "\n",
    "You should see the dronelab gui pop up.\n"
   ]
  },
  {
   "cell_type": "markdown",
   "metadata": {},
   "source": [
    "## 4) Connect to your DroneLab instance from Python"
   ]
  },
  {
   "cell_type": "code",
   "execution_count": null,
   "metadata": {},
   "outputs": [],
   "source": [
    "# Create a TCP/IP socket\n",
    "sock = socket.socket(socket.AF_INET, socket.SOCK_STREAM)\n",
    "\n",
    "# Connect the socket to the port where the server is listening\n",
    "server_address = ('localhost', Port_To_Test)\n",
    "print(sys.stderr, 'connecting to %s port %s' % server_address)\n",
    "\n",
    "sock.connect(server_address)"
   ]
  },
  {
   "cell_type": "markdown",
   "metadata": {},
   "source": [
    "# Section 2 - Base RL experiment"
   ]
  },
  {
   "cell_type": "markdown",
   "metadata": {},
   "source": [
    "Agent: Assigns roles to drones in the swarm. A DQN is used, where a neural network is used to approximate the action-value function\n",
    "\n",
    "Environment: DronmeLab. Currently, the number of survivors found and total survivors are the two metrics.\n",
    "\n",
    "Reward: +1 if there are more people found in t+1 compared to t. -1 if not.\n",
    "\n",
    "Action: A matrix of the drone roles to be assigned in the swarm"
   ]
  },
  {
   "cell_type": "markdown",
   "metadata": {},
   "source": [
    "## 0) DroneLab Environment - make sure Dronelab.java is running before continuning"
   ]
  },
  {
   "cell_type": "code",
   "execution_count": 116,
   "metadata": {},
   "outputs": [],
   "source": [
    "class DroneLabRL(object):\n",
    "    def __init__(self,port):\n",
    "        super(DroneLabRL, self).__init__()\n",
    "        self.action_space = {}\n",
    "        self.port=port\n",
    "        self.step_id=0\n",
    "        self.time_step_length_seconds = 15\n",
    "        self.state_df = pd.DataFrame()\n",
    "        #self.drone_action_list = [\"RELAY\",\"ANTISOCIAL\",\"SOCIAL\"] not used\n",
    "        self.swarm_observation_space=np.array([])\n",
    "        self.swarm_action_space=np.array([]) #all the possible roles that drones can be assigned to\n",
    "        self.state_observation=np.array([]) #state consisting of num survivors and survivors found\n",
    "        #self.drone_action_space=np.array([1,2,3]) not used\n",
    "        self.action_dict={}\n",
    "        self.rl_action_to_take=-1  #index identifier of the swarm_action_space\n",
    "        self.time_step_seconds = 60\n",
    "        self._connect_to_DL()\n",
    "        self.build_swarm_action_space()\n",
    "        self.done=False\n",
    "        \n",
    "    def _connect_to_DL(self):\n",
    "        #Connect to websocket\n",
    "        self.sock = socket.socket(socket.AF_INET, socket.SOCK_STREAM)\n",
    "        # Connect the socket to the port where the server is listening\n",
    "        server_address = ('localhost', self.port)\n",
    "        print(sys.stderr, 'connecting to %s port %s' % server_address)\n",
    "        self.sock.connect(server_address)\n",
    "    \n",
    "    def initialize_enviornment(self):\n",
    "        #Get dronelab initialized\n",
    "        message = b'Sim.Action.PerformAllRuns'\n",
    "        self.sock.sendall(message)\n",
    "        data = self.sock.recv(1024)\n",
    "        #Pause\n",
    "        message = b'Sim.Action.Stop'\n",
    "        self.sock.sendall(message)\n",
    "        data = self.sock.recv(1024)\n",
    "        time.sleep(0.2)\n",
    "        \n",
    "        #Build Initial State\n",
    "        if len(self.state_df)==0:\n",
    "            self.build_tmp_state_df()\n",
    "            self.tmp_df['reward']=0\n",
    "            self.state_df = self.state_df.append(self.tmp_df,ignore_index=True)\n",
    "            self.tmp_df = pd.DataFrame() #clear dataframe\n",
    "            #increment step_id\n",
    "            self.step_id+=1\n",
    "            \n",
    "        #build swarm roles\n",
    "        self.get_swarm_roles()\n",
    "        \n",
    "        #build state observation\n",
    "        self.build_state_observation()\n",
    "\n",
    "    def build_state_observation(self):\n",
    "        self.state_observation=np.array([self.state_df.iloc[-1]['initial_num_survivors'],\n",
    "                                        self.state_df.iloc[-1]['num_survivors_found']])\n",
    "\n",
    "        \n",
    "    def build_swarm_action_space(self):\n",
    "        #create a numpy array of numpy arrays of all the possible drone roles in the swarm\n",
    "        self.get_possible_actions()\n",
    "        possible_swarm_roles = list(combinations_with_replacement('123', len(self.action_space)))\n",
    "        actions_np_array_str=np.array(possible_swarm_roles)\n",
    "        self.swarm_action_space = actions_np_array_str.astype(np.float)\n",
    "\n",
    "    def get_swarm_roles(self):\n",
    "        #build numpy array of the current roles the drones are assigned to in the swarm\n",
    "        tmp_list=[]\n",
    "        for k,v in self.state_df.iloc[-1]['drone_role_dict'].items():\n",
    "            if v ==\"SOCIAL\":\n",
    "                tmp_list.append(1)\n",
    "            elif v ==\"RELAY\":\n",
    "                tmp_list.append(2)\n",
    "            elif v ==\"ANTISOCIAL\":\n",
    "                tmp_list.append(3)\n",
    "        self.swarm_observation_space = np.array(tmp_list)\n",
    "        #self.drone_action_space = np.array([1,2,3])\n",
    "        \n",
    "    def select_random_action(self):\n",
    "        #pick random state from the swarm role array and create a dictionary assigning drones to roles\n",
    "        self.action_dict={}\n",
    "        test.rl_action_to_take = np.random.randint(0,self.swarm_action_space.shape[0],1)\n",
    "        random_action = self.swarm_action_space[test.rl_action_to_take]\n",
    "        drone_id=0\n",
    "        for role in random_action[0]:\n",
    "            if role ==1:\n",
    "                self.action_dict[drone_id]=[\"SOCIAL\"]\n",
    "            elif role ==2:\n",
    "                self.action_dict[drone_id]=[\"RELAY\"]\n",
    "            elif role ==3:   \n",
    "                self.action_dict[drone_id]=[\"ANTISOCIAL\"]\n",
    "            drone_id+=1\n",
    "        \n",
    "    def select_rl_action(self):\n",
    "        #create a dictionary assigning drones to roles, from the RL agent\n",
    "        self.action_dict={}\n",
    "        rl_action = self.swarm_action_space[self.rl_action_to_take]\n",
    "        drone_id=0\n",
    "        for role in rl_action:\n",
    "            if role ==1:\n",
    "                self.action_dict[drone_id]=[\"SOCIAL\"]\n",
    "            elif role ==2:\n",
    "                self.action_dict[drone_id]=[\"RELAY\"]\n",
    "            elif role ==3:   \n",
    "                self.action_dict[drone_id]=[\"ANTISOCIAL\"]\n",
    "            drone_id+=1  \n",
    "            \n",
    "    def get_possible_actions(self):\n",
    "        #Used to figure out all the possible roles. do not delete\n",
    "        message = b'Drone.Get.AllRoles'\n",
    "        self.sock.sendall(message)\n",
    "        data = self.sock.recv(1024)\n",
    "        str_data = data.decode('utf-8').split(\"|\")[-1].split(\",\")\n",
    "        for drones in str_data:\n",
    "            drone_id = drones.split(\":\")[0]\n",
    "            current_role = drones.split(\":\")[1]\n",
    "            self.action_space[drone_id]=[\"SOCIAL\",\"RELAY\",\"ANTISOCIAL\"]\n",
    "    \n",
    "    def adjust_drone_roles_given_action_dict(self):\n",
    "        #Given the action dictionary, set the role of the drone in dronelab\n",
    "        for drone_id in self.action_dict.keys():\n",
    "            message = \"Drone.Action.SetRole.\"+str(drone_id)+\".\"+self.action_dict[drone_id][0]\n",
    "            self.sock.sendall(message.encode())\n",
    "            data = self.sock.recv(1024)\n",
    "            time.sleep(0.01)\n",
    "\n",
    "    def build_tmp_state_df(self):\n",
    "        #build a temporary state dataframe from the most recent state\n",
    "        self.parse_success=True\n",
    "        self.tmp_df=pd.DataFrame()\n",
    "        try:\n",
    "            message = b'Sim.Get.CurrentTime'\n",
    "            self.sock.sendall(message)\n",
    "            time.sleep(0.1) \n",
    "            current_time_data = self.sock.recv(4096)\n",
    "            time.sleep(0.1)\n",
    "            time_str = current_time_data.decode('utf-8').split(\"|\")[-1]\n",
    "            td = datetime.strptime(time_str, '%H:%M:%S') - datetime(1900,1,1)\n",
    "            total_seconds_elapsed = td.total_seconds()\n",
    "\n",
    "            message = b'Sim.Get.InitialNumSurvivors'\n",
    "            self.sock.sendall(message)\n",
    "            time.sleep(0.1) \n",
    "            initial_num_data = self.sock.recv(4096)\n",
    "            time.sleep(0.1)\n",
    "            initial_num_survivors = float(initial_num_data.decode('utf-8').split(\"|\")[-1])\n",
    "            message = b'Sim.Get.NumSurvivorsFound'\n",
    "            self.sock.sendall(message)\n",
    "            time.sleep(0.1) \n",
    "            survivor_found_data = self.sock.recv(4096)\n",
    "            time.sleep(0.1)\n",
    "            numSurvivorsFound = float(survivor_found_data.decode('utf-8').split(\"|\")[-1])\n",
    "\n",
    "            drole_role_dict={}\n",
    "            message = b'Drone.Get.AllRoles'\n",
    "            self.sock.sendall(message)\n",
    "            time.sleep(0.1) \n",
    "            roles_data = self.sock.recv(4096)\n",
    "            time.sleep(0.1)\n",
    "            drone_role_data = roles_data.decode('utf-8').split(\"|\")[-1]\n",
    "            for drone_roles in drone_role_data.split(\",\"):\n",
    "                drone_id = drone_roles.split(\":\")[0]\n",
    "                drone_role = drone_roles.split(\":\")[1]\n",
    "                drole_role_dict[drone_id] = drone_role\n",
    "\n",
    "            #create state & save to pandas dataframe\n",
    "            self.tmp_df = pd.DataFrame([[self.step_id,total_seconds_elapsed,initial_num_survivors,numSurvivorsFound,drole_role_dict]])\n",
    "            self.tmp_df.columns = ['step_id','total_seconds_elapsed','initial_num_survivors','num_survivors_found','drone_role_dict']\n",
    "        except:\n",
    "            self.parse_success=False\n",
    "            \n",
    "    def step(self):\n",
    "        #unpause for x seconds\n",
    "        message = b'Sim.Action.Start'\n",
    "        self.sock.sendall(message)\n",
    "        data = self.sock.recv(1024)\n",
    "        time.sleep(self.time_step_length_seconds)\n",
    "\n",
    "        #Stop\n",
    "        message = b'Sim.Action.Stop'\n",
    "        self.sock.sendall(message)\n",
    "        data = self.sock.recv(1024)\n",
    "        time.sleep(0.2)\n",
    "\n",
    "        #build state dataframe\n",
    "        self.build_tmp_state_df()\n",
    "\n",
    "        #build swarm action space - double check the available roles\n",
    "        self.build_swarm_action_space()\n",
    "\n",
    "        #quantify and save reward\n",
    "        old_survivors_found = float(self.state_df.iloc[-1]['num_survivors_found'])\n",
    "        new_survivors_found = float(self.tmp_df.iloc[-1]['num_survivors_found'])\n",
    "        if new_survivors_found>old_survivors_found:\n",
    "            reward = 1\n",
    "        else:\n",
    "            reward = -1\n",
    "        self.tmp_df['reward'] = reward   \n",
    "\n",
    "        #join to state_df and increment\n",
    "        self.state_df =self.state_df.append(self.tmp_df, ignore_index = True)\n",
    "        self.tmp_df = pd.DataFrame() #clear dataframe\n",
    "        \n",
    "        #build state observation\n",
    "        self.build_state_observation()\n",
    "\n",
    "        #increment step_id\n",
    "        self.step_id+=1\n",
    "\n",
    "        #select action to take\n",
    "        #test.select_random_action()\n",
    "\n",
    "        #take action\n",
    "        self.adjust_drone_roles_given_action_dict()\n",
    "\n",
    "        #check to see if terminal state\n",
    "        percentage_survivors_found = self.state_df.iloc[-1]['num_survivors_found'] / self.state_df.iloc[-1]['initial_num_survivors'] \n",
    "        if percentage_survivors_found >= 0.30:\n",
    "            self.done = True\n",
    "\n",
    "    def print_drone_roles(self):\n",
    "        #Utility to print drone roles\n",
    "        #for more utilities, see the tcp_socket_test\n",
    "        message = b'Drone.Get.AllRoles'\n",
    "        self.sock.sendall(message)\n",
    "        data = self.sock.recv(4096)\n",
    "        print(data)"
   ]
  },
  {
   "cell_type": "markdown",
   "metadata": {},
   "source": [
    "## 1) Initialize the DroneLab Environment"
   ]
  },
  {
   "cell_type": "code",
   "execution_count": 117,
   "metadata": {},
   "outputs": [
    {
     "name": "stdout",
     "output_type": "stream",
     "text": [
      "<ipykernel.iostream.OutStream object at 0x7f4c1c5dc2e0> connecting to localhost port 8007\n"
     ]
    }
   ],
   "source": [
    "port = 8007\n",
    "test = DroneLabRL(port)\n",
    "test.initialize_enviornment()"
   ]
  },
  {
   "cell_type": "markdown",
   "metadata": {},
   "source": [
    "## 2) Step through the learning process using a miniDQN\n",
    "https://github.com/mswang12/minDQN/blob/main/minDQN.py\n",
    "https://colab.research.google.com/github/zht007/tensorflow-practice/blob/master/9_Renforcement_Learning_CartPole/5_DQN_keras_cartpole.ipynb#scrollTo=w_7sLLVzZ1Tj"
   ]
  },
  {
   "cell_type": "code",
   "execution_count": 118,
   "metadata": {},
   "outputs": [],
   "source": [
    "import tensorflow as tf\n",
    "from tensorflow import keras\n",
    "from tensorflow.keras import models\n",
    "from tensorflow.keras import losses,optimizers,metrics\n",
    "from tensorflow.keras.layers import Dense, Activation, Flatten\n",
    "from tensorflow.keras.optimizers import Adam\n",
    "from collections import deque\n",
    "import random\n",
    "from tqdm import tqdm"
   ]
  },
  {
   "cell_type": "markdown",
   "metadata": {},
   "source": [
    "## 3) Adjust experiment parameters"
   ]
  },
  {
   "cell_type": "code",
   "execution_count": 135,
   "metadata": {},
   "outputs": [],
   "source": [
    "ACTION_SPACE_SIZE = len(test.swarm_action_space)\n",
    "REPLAY_MEMORY_SIZE = 50_000\n",
    "MIN_REPLAY_MEMORY_SIZE = 1_000\n",
    "MINIBATCH_SIZE = 6 #64\n",
    "UPDATE_TARGET_EVERY = 3\n",
    "DISCOUNT = 0.99\n",
    "EPISODES =40 #1000\n",
    "\n",
    "# Exploration settings\n",
    "epsilon = 1  # not a constant, going to be decayed\n",
    "EPSILON_DECAY = 0.900\n",
    "MIN_EPSILON = 0.001\n",
    "\n",
    "ep_rewards = []\n",
    "\n",
    "AGGREGATE_STATS_EVERY = 2\n",
    "MIN_EPSILON = 0.001\n",
    "\n",
    "RANDOM_SEED = 5\n",
    "tf.random.set_seed(RANDOM_SEED)\n",
    "np.random.seed(RANDOM_SEED)"
   ]
  },
  {
   "cell_type": "markdown",
   "metadata": {},
   "source": [
    "## Plot epsilon decay\n"
   ]
  },
  {
   "cell_type": "code",
   "execution_count": 136,
   "metadata": {},
   "outputs": [
    {
     "data": {
      "text/plain": [
       "[<matplotlib.lines.Line2D at 0x7f4b786f0310>]"
      ]
     },
     "execution_count": 136,
     "metadata": {},
     "output_type": "execute_result"
    },
    {
     "data": {
      "image/png": "[encoded data removed]",
      "text/plain": [
       "<Figure size 432x288 with 1 Axes>"
      ]
     },
     "metadata": {
      "needs_background": "light"
     },
     "output_type": "display_data"
    }
   ],
   "source": [
    "recorder = {\"epsode\":[],\"epsilon\":[]}\n",
    "\n",
    "for epsode in range(EPISODES):\n",
    "    if epsilon > MIN_EPSILON:\n",
    "        epsilon *= EPSILON_DECAY\n",
    "        epsilon = max(MIN_EPSILON, epsilon)\n",
    "    \n",
    "    recorder[\"epsode\"].append(epsode)\n",
    "    recorder[\"epsilon\"].append(epsilon)\n",
    "\n",
    "plt.plot(recorder[\"epsode\"], recorder[\"epsilon\"])"
   ]
  },
  {
   "cell_type": "markdown",
   "metadata": {},
   "source": [
    "## 4) Create Model and set up environment\n"
   ]
  },
  {
   "cell_type": "code",
   "execution_count": 137,
   "metadata": {},
   "outputs": [],
   "source": [
    "test.build_state_observation()\n",
    "observation = test.state_observation"
   ]
  },
  {
   "cell_type": "code",
   "execution_count": 138,
   "metadata": {},
   "outputs": [
    {
     "data": {
      "text/plain": [
       "(2,)"
      ]
     },
     "execution_count": 138,
     "metadata": {},
     "output_type": "execute_result"
    }
   ],
   "source": [
    "test.state_observation.shape"
   ]
  },
  {
   "cell_type": "code",
   "execution_count": 139,
   "metadata": {},
   "outputs": [],
   "source": [
    "test.build_state_observation()\n",
    "observation = test.state_observation\n",
    "def create_model():\n",
    "    model = models.Sequential()\n",
    "\n",
    "    #  model.add(Flatten(input_shape=(2,)))\n",
    "    model.add(Dense(16 ,input_shape=(test.state_observation.shape)))\n",
    "    model.add(Activation('relu'))\n",
    "    model.add(Dense(16))\n",
    "    model.add(Activation('relu'))\n",
    "    model.add(Dense(16))\n",
    "    model.add(Activation('relu'))\n",
    "    model.add(Dense(ACTION_SPACE_SIZE))\n",
    "    model.add(Activation('linear'))\n",
    "\n",
    "    print(model.summary())\n",
    "\n",
    "    model.compile(loss = 'mse', optimizer=Adam(lr=0.001),metrics=['accuracy'])\n",
    "\n",
    "    return model\n"
   ]
  },
  {
   "cell_type": "markdown",
   "metadata": {},
   "source": [
    "## 5) Create DQN Agent"
   ]
  },
  {
   "cell_type": "code",
   "execution_count": 140,
   "metadata": {},
   "outputs": [],
   "source": [
    "class DQNAgent:\n",
    "\n",
    "    def __init__(self):\n",
    "    \n",
    "        # Replay memory\n",
    "        self.replay_memory = deque(maxlen=REPLAY_MEMORY_SIZE)\n",
    "\n",
    "        # Prediction Network (the main Model)\n",
    "        self.model_prediction = create_model()\n",
    "\n",
    "        # Target Network\n",
    "        self.model_target = create_model()\n",
    "        self.model_target.set_weights(self.model_prediction.get_weights())\n",
    "\n",
    "        # Used to count when to update target network with prediction network's weights\n",
    "        self.target_update_counter = 0\n",
    "    \n",
    "  # Adds step's data to a memory replay array\n",
    "  # (current_state, action, reward, next_state, done)\n",
    "    def update_replay_memory(self, transition):\n",
    "        self.replay_memory.append(transition)\n",
    "  \n",
    "  \n",
    "  \n",
    "  # Queries prediction network for Q values given current observation space (environment state)\n",
    "    def get_qs(self, state):\n",
    "        return self.model_prediction.predict(np.array(state).reshape(-1, *state.shape))[0]\n",
    "  \n",
    "    def train(self, terminal_state, step):\n",
    "        if len(self.replay_memory) < MIN_REPLAY_MEMORY_SIZE:\n",
    "            return\n",
    "    \n",
    "        minibatch = random.sample(self.replay_memory, MINIBATCH_SIZE)\n",
    "\n",
    "        # Get current states from minibatch, then query NN model_prediction for current Q values\n",
    "        current_states = np.array([transition[0] for transition in minibatch])\n",
    "        current_qs_list = self.model_prediction.predict(current_states)   \n",
    "\n",
    "        # Get next_states from minibatch, then query NN model_target for target Q values\n",
    "        # When using target network, query it, otherwise main network should be queried\n",
    "        next_states = np.array([transition[3] for transition in minibatch])\n",
    "        target_qs_list = self.model_target.predict(next_states)\n",
    "\n",
    "        X = []\n",
    "        y = []\n",
    "\n",
    "        # Now we need to enumerate our batches\n",
    "        for index, (current_state, action, reward, next_state, done) in enumerate(minibatch):\n",
    "\n",
    "            # If not a terminal state, get new q from future states, otherwise set it to 0\n",
    "            # almost like with Q Learning, but we use just part of equation here\n",
    "            if not done:\n",
    "                max_target_q = np.max(target_qs_list[index])\n",
    "                new_q = reward + DISCOUNT * max_target_q\n",
    "            else:\n",
    "                new_q = reward\n",
    "\n",
    "            # Update Q value for given state\n",
    "            current_qs = current_qs_list[index]\n",
    "            current_qs[action] = new_q\n",
    "\n",
    "            # And append to our training data\n",
    "            X.append(current_state)\n",
    "            y.append(current_qs)    \n",
    "\n",
    "        # Fit on all samples as one batch, log only on terminal state\n",
    "        self.model_prediction.fit(np.array(X), np.array(y), batch_size=MINIBATCH_SIZE, verbose=0, shuffle=False if terminal_state else None)\n",
    "\n",
    "        # Update target network counter every episode\n",
    "        if terminal_state:\n",
    "            self.target_update_counter +=1\n",
    "\n",
    "        # If counter reaches set value, update target network with weights of main network\n",
    "        if self.target_update_counter > UPDATE_TARGET_EVERY:\n",
    "            self.model_target.set_weights(self.model_prediction.get_weights())\n",
    "            self.target_update_counter = 0"
   ]
  },
  {
   "cell_type": "markdown",
   "metadata": {},
   "source": [
    "## 6) Initialize DroneLab Environment"
   ]
  },
  {
   "cell_type": "code",
   "execution_count": 141,
   "metadata": {},
   "outputs": [
    {
     "name": "stdout",
     "output_type": "stream",
     "text": [
      "<ipykernel.iostream.OutStream object at 0x7f4c1c5dc2e0> connecting to localhost port 8007\n"
     ]
    }
   ],
   "source": [
    "port = 8007\n",
    "test = DroneLabRL(port)\n",
    "test.initialize_enviornment()\n",
    "\n",
    "test.build_state_observation()\n"
   ]
  },
  {
   "cell_type": "markdown",
   "metadata": {},
   "source": [
    "## 7) Initialize DQN Agent"
   ]
  },
  {
   "cell_type": "code",
   "execution_count": 142,
   "metadata": {},
   "outputs": [
    {
     "name": "stdout",
     "output_type": "stream",
     "text": [
      "Model: \"sequential_12\"\n",
      "_________________________________________________________________\n",
      " Layer (type)                Output Shape              Param #   \n",
      "=================================================================\n",
      " dense_48 (Dense)            (None, 16)                48        \n",
      "                                                                 \n",
      " activation_48 (Activation)  (None, 16)                0         \n",
      "                                                                 \n",
      " dense_49 (Dense)            (None, 16)                272       \n",
      "                                                                 \n",
      " activation_49 (Activation)  (None, 16)                0         \n",
      "                                                                 \n",
      " dense_50 (Dense)            (None, 16)                272       \n",
      "                                                                 \n",
      " activation_50 (Activation)  (None, 16)                0         \n",
      "                                                                 \n",
      " dense_51 (Dense)            (None, 1891)              32147     \n",
      "                                                                 \n",
      " activation_51 (Activation)  (None, 1891)              0         \n",
      "                                                                 \n",
      "=================================================================\n",
      "Total params: 32,739\n",
      "Trainable params: 32,739\n",
      "Non-trainable params: 0\n",
      "_________________________________________________________________\n",
      "None\n",
      "Model: \"sequential_13\"\n",
      "_________________________________________________________________\n",
      " Layer (type)                Output Shape              Param #   \n",
      "=================================================================\n",
      " dense_52 (Dense)            (None, 16)                48        \n",
      "                                                                 \n",
      " activation_52 (Activation)  (None, 16)                0         \n",
      "                                                                 \n",
      " dense_53 (Dense)            (None, 16)                272       \n",
      "                                                                 \n",
      " activation_53 (Activation)  (None, 16)                0         \n",
      "                                                                 \n",
      " dense_54 (Dense)            (None, 16)                272       \n",
      "                                                                 \n",
      " activation_54 (Activation)  (None, 16)                0         \n",
      "                                                                 \n",
      " dense_55 (Dense)            (None, 1891)              32147     \n",
      "                                                                 \n",
      " activation_55 (Activation)  (None, 1891)              0         \n",
      "                                                                 \n",
      "=================================================================\n",
      "Total params: 32,739\n",
      "Trainable params: 32,739\n",
      "Non-trainable params: 0\n",
      "_________________________________________________________________\n",
      "None\n"
     ]
    }
   ],
   "source": [
    "agent = DQNAgent()"
   ]
  },
  {
   "cell_type": "markdown",
   "metadata": {},
   "source": [
    "## 8) Train the Agent \n",
    "\n",
    "##     time_step_length_seconds = num seconds to run dronelab. \n"
   ]
  },
  {
   "cell_type": "code",
   "execution_count": 143,
   "metadata": {},
   "outputs": [],
   "source": [
    "aggr_ep_rewards = {'ep':[],'avg':[],'min':[],'max':[]}"
   ]
  },
  {
   "cell_type": "code",
   "execution_count": 144,
   "metadata": {},
   "outputs": [
    {
     "name": "stderr",
     "output_type": "stream",
     "text": [
      "  0%|          | 0/40 [00:00<?, ?episodes/s]"
     ]
    },
    {
     "name": "stdout",
     "output_type": "stream",
     "text": [
      "<ipykernel.iostream.OutStream object at 0x7f4c1c5dc2e0> connecting to localhost port 8007\n",
      "************\n",
      "0.012307692307692308\n",
      "************\n",
      "************\n",
      "0.04923076923076923\n",
      "************\n",
      "************\n",
      "0.10615384615384615\n",
      "************\n",
      "************\n",
      "0.17384615384615384\n",
      "************\n",
      "************\n",
      "0.21846153846153846\n",
      "************\n",
      "************\n",
      "0.25384615384615383\n",
      "************\n"
     ]
    },
    {
     "name": "stderr",
     "output_type": "stream",
     "text": [
      "  2%|2         | 1/40 [01:58<1:17:17, 118.91s/episodes]"
     ]
    },
    {
     "name": "stdout",
     "output_type": "stream",
     "text": [
      "************\n",
      "0.3707692307692308\n",
      "************\n",
      "<ipykernel.iostream.OutStream object at 0x7f4c1c5dc2e0> connecting to localhost port 8007\n",
      "************\n",
      "0.013846153846153847\n",
      "************\n",
      "************\n",
      "0.07538461538461538\n",
      "************\n",
      "************\n",
      "0.11692307692307692\n",
      "************\n",
      "************\n",
      "0.15692307692307692\n",
      "************\n",
      "************\n",
      "0.21384615384615385\n",
      "************\n",
      "************\n",
      "0.23846153846153847\n",
      "************\n",
      "************\n",
      "0.27384615384615385\n",
      "************\n"
     ]
    },
    {
     "name": "stderr",
     "output_type": "stream",
     "text": [
      "  5%|5         | 2/40 [04:14<1:18:30, 123.96s/episodes]"
     ]
    },
    {
     "name": "stdout",
     "output_type": "stream",
     "text": [
      "************\n",
      "0.3230769230769231\n",
      "************\n",
      "<ipykernel.iostream.OutStream object at 0x7f4c1c5dc2e0> connecting to localhost port 8007\n",
      "************\n",
      "0.007692307692307693\n",
      "************\n",
      "************\n",
      "0.06153846153846154\n",
      "************\n",
      "************\n",
      "0.1\n",
      "************\n",
      "************\n",
      "0.12153846153846154\n",
      "************\n",
      "************\n",
      "0.24615384615384617\n",
      "************\n",
      "************\n",
      "0.28923076923076924\n",
      "************\n"
     ]
    },
    {
     "name": "stderr",
     "output_type": "stream",
     "text": [
      "  8%|7         | 3/40 [06:13<1:15:30, 122.44s/episodes]"
     ]
    },
    {
     "name": "stdout",
     "output_type": "stream",
     "text": [
      "************\n",
      "0.31846153846153846\n",
      "************\n",
      "<ipykernel.iostream.OutStream object at 0x7f4c1c5dc2e0> connecting to localhost port 8007\n",
      "************\n",
      "0.010769230769230769\n",
      "************\n",
      "************\n",
      "0.05384615384615385\n",
      "************\n",
      "************\n",
      "0.12\n",
      "************\n",
      "************\n",
      "0.14461538461538462\n",
      "************\n",
      "************\n",
      "0.16307692307692306\n",
      "************\n",
      "************\n",
      "0.20307692307692307\n",
      "************\n",
      "************\n",
      "0.25384615384615383\n",
      "************\n",
      "************\n",
      "0.28307692307692306\n",
      "************\n"
     ]
    },
    {
     "name": "stderr",
     "output_type": "stream",
     "text": [
      " 10%|#         | 4/40 [08:46<1:18:53, 131.48s/episodes]"
     ]
    },
    {
     "name": "stdout",
     "output_type": "stream",
     "text": [
      "************\n",
      "0.3446153846153846\n",
      "************\n",
      "<ipykernel.iostream.OutStream object at 0x7f4c1c5dc2e0> connecting to localhost port 8007\n",
      "************\n",
      "0.010769230769230769\n",
      "************\n",
      "************\n",
      "0.046153846153846156\n",
      "************\n",
      "************\n",
      "0.11384615384615385\n",
      "************\n",
      "************\n",
      "0.13538461538461538\n",
      "************\n",
      "************\n",
      "0.18461538461538463\n",
      "************\n",
      "************\n",
      "0.22153846153846155\n",
      "************\n",
      "************\n",
      "0.24615384615384617\n",
      "************\n",
      "************\n",
      "0.29384615384615387\n",
      "************\n"
     ]
    },
    {
     "name": "stderr",
     "output_type": "stream",
     "text": [
      " 12%|#2        | 5/40 [11:18<1:20:21, 137.77s/episodes]"
     ]
    },
    {
     "name": "stdout",
     "output_type": "stream",
     "text": [
      "************\n",
      "0.4046153846153846\n",
      "************\n",
      "<ipykernel.iostream.OutStream object at 0x7f4c1c5dc2e0> connecting to localhost port 8007\n",
      "************\n",
      "0.02\n",
      "************\n",
      "************\n",
      "0.06307692307692307\n",
      "************\n",
      "************\n",
      "0.10615384615384615\n",
      "************\n",
      "************\n",
      "0.1523076923076923\n",
      "************\n",
      "************\n",
      "0.19692307692307692\n",
      "************\n",
      "************\n",
      "0.2353846153846154\n",
      "************\n"
     ]
    },
    {
     "name": "stderr",
     "output_type": "stream",
     "text": [
      " 15%|#5        | 6/40 [13:17<1:14:51, 132.10s/episodes]"
     ]
    },
    {
     "name": "stdout",
     "output_type": "stream",
     "text": [
      "************\n",
      "0.33692307692307694\n",
      "************\n",
      "<ipykernel.iostream.OutStream object at 0x7f4c1c5dc2e0> connecting to localhost port 8007\n",
      "************\n",
      "0.018461538461538463\n",
      "************\n",
      "************\n",
      "0.1\n",
      "************\n",
      "************\n",
      "0.16153846153846155\n",
      "************\n",
      "************\n",
      "0.19538461538461538\n",
      "************\n",
      "************\n",
      "0.24307692307692308\n",
      "************\n"
     ]
    },
    {
     "name": "stderr",
     "output_type": "stream",
     "text": [
      " 18%|#7        | 7/40 [14:59<1:07:42, 123.10s/episodes]"
     ]
    },
    {
     "name": "stdout",
     "output_type": "stream",
     "text": [
      "************\n",
      "0.33384615384615385\n",
      "************\n",
      "<ipykernel.iostream.OutStream object at 0x7f4c1c5dc2e0> connecting to localhost port 8007\n",
      "************\n",
      "0.010769230769230769\n",
      "************\n",
      "************\n",
      "0.04461538461538461\n",
      "************\n",
      "************\n",
      "0.09384615384615384\n",
      "************\n",
      "************\n",
      "0.12923076923076923\n",
      "************\n",
      "************\n",
      "0.16307692307692306\n",
      "************\n",
      "************\n",
      "0.18923076923076923\n",
      "************\n",
      "************\n",
      "0.21846153846153846\n",
      "************\n",
      "************\n",
      "0.26153846153846155\n",
      "************\n",
      "************\n",
      "0.2923076923076923\n",
      "************\n"
     ]
    },
    {
     "name": "stderr",
     "output_type": "stream",
     "text": [
      " 20%|##        | 8/40 [17:48<1:13:03, 136.99s/episodes]"
     ]
    },
    {
     "name": "stdout",
     "output_type": "stream",
     "text": [
      "************\n",
      "0.3123076923076923\n",
      "************\n",
      "<ipykernel.iostream.OutStream object at 0x7f4c1c5dc2e0> connecting to localhost port 8007\n",
      "************\n",
      "0.007692307692307693\n",
      "************\n",
      "************\n",
      "0.04153846153846154\n",
      "************\n",
      "************\n",
      "0.0876923076923077\n",
      "************\n",
      "************\n",
      "0.16307692307692306\n",
      "************\n",
      "************\n",
      "0.2076923076923077\n",
      "************\n"
     ]
    },
    {
     "name": "stderr",
     "output_type": "stream",
     "text": [
      " 22%|##2       | 9/40 [19:31<1:05:22, 126.52s/episodes]"
     ]
    },
    {
     "name": "stdout",
     "output_type": "stream",
     "text": [
      "************\n",
      "0.32153846153846155\n",
      "************\n",
      "<ipykernel.iostream.OutStream object at 0x7f4c1c5dc2e0> connecting to localhost port 8007\n",
      "************\n",
      "0.007692307692307693\n",
      "************\n",
      "************\n",
      "0.047692307692307694\n",
      "************\n",
      "************\n",
      "0.09846153846153846\n",
      "************\n",
      "************\n",
      "0.15384615384615385\n",
      "************\n",
      "************\n",
      "0.18\n",
      "************\n",
      "************\n",
      "0.2123076923076923\n",
      "************\n",
      "************\n",
      "0.2630769230769231\n",
      "************\n",
      "************\n",
      "0.28615384615384615\n",
      "************\n"
     ]
    },
    {
     "name": "stderr",
     "output_type": "stream",
     "text": [
      " 25%|##5       | 10/40 [22:03<1:07:10, 134.36s/episodes]"
     ]
    },
    {
     "name": "stdout",
     "output_type": "stream",
     "text": [
      "************\n",
      "0.3169230769230769\n",
      "************\n",
      "<ipykernel.iostream.OutStream object at 0x7f4c1c5dc2e0> connecting to localhost port 8007\n",
      "************\n",
      "0.010769230769230769\n",
      "************\n",
      "************\n",
      "0.05384615384615385\n",
      "************\n",
      "************\n",
      "0.11076923076923077\n",
      "************\n",
      "************\n",
      "0.16153846153846155\n",
      "************\n",
      "************\n",
      "0.19692307692307692\n",
      "************\n",
      "************\n",
      "0.22153846153846155\n",
      "************\n",
      "************\n",
      "0.26\n",
      "************\n",
      "************\n",
      "0.2907692307692308\n",
      "************\n"
     ]
    },
    {
     "name": "stderr",
     "output_type": "stream",
     "text": [
      " 28%|##7       | 11/40 [24:36<1:07:35, 139.83s/episodes]"
     ]
    },
    {
     "name": "stdout",
     "output_type": "stream",
     "text": [
      "************\n",
      "0.3630769230769231\n",
      "************\n",
      "<ipykernel.iostream.OutStream object at 0x7f4c1c5dc2e0> connecting to localhost port 8007\n",
      "************\n",
      "0.013846153846153847\n",
      "************\n",
      "************\n",
      "0.07384615384615385\n",
      "************\n",
      "************\n",
      "0.11076923076923077\n",
      "************\n",
      "************\n",
      "0.14307692307692307\n",
      "************\n",
      "************\n",
      "0.2076923076923077\n",
      "************\n",
      "************\n",
      "0.22923076923076924\n",
      "************\n",
      "************\n",
      "0.26615384615384613\n",
      "************\n"
     ]
    },
    {
     "name": "stderr",
     "output_type": "stream",
     "text": [
      " 30%|###       | 12/40 [26:52<1:04:41, 138.61s/episodes]"
     ]
    },
    {
     "name": "stdout",
     "output_type": "stream",
     "text": [
      "************\n",
      "0.3169230769230769\n",
      "************\n",
      "<ipykernel.iostream.OutStream object at 0x7f4c1c5dc2e0> connecting to localhost port 8007\n",
      "************\n",
      "0.009230769230769232\n",
      "************\n",
      "************\n",
      "0.05846153846153846\n",
      "************\n",
      "************\n",
      "0.09538461538461539\n",
      "************\n",
      "************\n",
      "0.18307692307692308\n",
      "************\n",
      "************\n",
      "0.28615384615384615\n",
      "************\n"
     ]
    },
    {
     "name": "stderr",
     "output_type": "stream",
     "text": [
      " 32%|###2      | 13/40 [28:34<57:27, 127.67s/episodes]  "
     ]
    },
    {
     "name": "stdout",
     "output_type": "stream",
     "text": [
      "************\n",
      "0.31846153846153846\n",
      "************\n",
      "<ipykernel.iostream.OutStream object at 0x7f4c1c5dc2e0> connecting to localhost port 8007\n",
      "************\n",
      "0.012307692307692308\n",
      "************\n",
      "************\n",
      "0.05384615384615385\n",
      "************\n",
      "************\n",
      "0.09384615384615384\n",
      "************\n",
      "************\n",
      "0.12153846153846154\n",
      "************\n",
      "************\n",
      "0.16\n",
      "************\n",
      "************\n",
      "0.20615384615384616\n",
      "************\n",
      "************\n",
      "0.22923076923076924\n",
      "************\n",
      "************\n",
      "0.26461538461538464\n",
      "************\n"
     ]
    },
    {
     "name": "stderr",
     "output_type": "stream",
     "text": [
      " 35%|###5      | 14/40 [31:06<58:34, 135.16s/episodes]"
     ]
    },
    {
     "name": "stdout",
     "output_type": "stream",
     "text": [
      "************\n",
      "0.3569230769230769\n",
      "************\n",
      "<ipykernel.iostream.OutStream object at 0x7f4c1c5dc2e0> connecting to localhost port 8007\n",
      "************\n",
      "0.012307692307692308\n",
      "************\n",
      "************\n",
      "0.06769230769230769\n",
      "************\n",
      "************\n",
      "0.12\n",
      "************\n",
      "************\n",
      "0.15846153846153846\n",
      "************\n",
      "************\n",
      "0.1753846153846154\n",
      "************\n",
      "************\n",
      "0.19384615384615383\n",
      "************\n",
      "************\n",
      "0.2153846153846154\n",
      "************\n",
      "************\n",
      "0.2692307692307692\n",
      "************\n",
      "************\n",
      "0.2953846153846154\n",
      "************\n"
     ]
    },
    {
     "name": "stderr",
     "output_type": "stream",
     "text": [
      " 38%|###7      | 15/40 [33:56<1:00:35, 145.44s/episodes]"
     ]
    },
    {
     "name": "stdout",
     "output_type": "stream",
     "text": [
      "************\n",
      "0.37846153846153846\n",
      "************\n",
      "<ipykernel.iostream.OutStream object at 0x7f4c1c5dc2e0> connecting to localhost port 8007\n",
      "************\n",
      "0.013846153846153847\n",
      "************\n",
      "************\n",
      "0.04923076923076923\n",
      "************\n",
      "************\n",
      "0.13076923076923078\n",
      "************\n",
      "************\n",
      "0.17384615384615384\n",
      "************\n",
      "************\n",
      "0.20307692307692307\n",
      "************\n"
     ]
    },
    {
     "name": "stderr",
     "output_type": "stream",
     "text": [
      " 40%|####      | 16/40 [35:38<52:58, 132.45s/episodes]  "
     ]
    },
    {
     "name": "stdout",
     "output_type": "stream",
     "text": [
      "************\n",
      "0.33384615384615385\n",
      "************\n",
      "<ipykernel.iostream.OutStream object at 0x7f4c1c5dc2e0> connecting to localhost port 8007\n",
      "************\n",
      "0.007692307692307693\n",
      "************\n",
      "************\n",
      "0.05076923076923077\n",
      "************\n",
      "************\n",
      "0.10461538461538461\n",
      "************\n",
      "************\n",
      "0.14461538461538462\n",
      "************\n",
      "************\n",
      "0.18307692307692308\n",
      "************\n",
      "************\n",
      "0.2276923076923077\n",
      "************\n",
      "************\n",
      "0.2784615384615385\n",
      "************\n"
     ]
    },
    {
     "name": "stderr",
     "output_type": "stream",
     "text": [
      " 42%|####2     | 17/40 [37:54<51:09, 133.46s/episodes]"
     ]
    },
    {
     "name": "stdout",
     "output_type": "stream",
     "text": [
      "************\n",
      "0.3353846153846154\n",
      "************\n",
      "<ipykernel.iostream.OutStream object at 0x7f4c1c5dc2e0> connecting to localhost port 8007\n",
      "************\n",
      "0.018461538461538463\n",
      "************\n",
      "************\n",
      "0.052307692307692305\n",
      "************\n",
      "************\n",
      "0.10153846153846154\n",
      "************\n",
      "************\n",
      "0.16153846153846155\n",
      "************\n",
      "************\n",
      "0.19076923076923077\n",
      "************\n",
      "************\n",
      "0.2230769230769231\n",
      "************\n",
      "************\n",
      "0.27076923076923076\n",
      "************\n"
     ]
    },
    {
     "name": "stderr",
     "output_type": "stream",
     "text": [
      " 45%|####5     | 18/40 [40:10<49:13, 134.27s/episodes]"
     ]
    },
    {
     "name": "stdout",
     "output_type": "stream",
     "text": [
      "************\n",
      "0.3169230769230769\n",
      "************\n",
      "<ipykernel.iostream.OutStream object at 0x7f4c1c5dc2e0> connecting to localhost port 8007\n",
      "************\n",
      "0.012307692307692308\n",
      "************\n",
      "************\n",
      "0.02923076923076923\n",
      "************\n",
      "************\n",
      "0.08307692307692308\n",
      "************\n",
      "************\n",
      "0.13230769230769232\n",
      "************\n",
      "************\n",
      "0.19846153846153847\n",
      "************\n",
      "************\n",
      "0.22153846153846155\n",
      "************\n",
      "************\n",
      "0.29384615384615387\n",
      "************\n"
     ]
    },
    {
     "name": "stderr",
     "output_type": "stream",
     "text": [
      " 48%|####7     | 19/40 [42:26<47:09, 134.74s/episodes]"
     ]
    },
    {
     "name": "stdout",
     "output_type": "stream",
     "text": [
      "************\n",
      "0.36615384615384616\n",
      "************\n",
      "<ipykernel.iostream.OutStream object at 0x7f4c1c5dc2e0> connecting to localhost port 8007\n",
      "************\n",
      "0.016923076923076923\n",
      "************\n",
      "************\n",
      "0.05846153846153846\n",
      "************\n",
      "************\n",
      "0.09076923076923077\n",
      "************\n",
      "************\n",
      "0.14461538461538462\n",
      "************\n",
      "************\n",
      "0.16615384615384615\n",
      "************\n",
      "************\n",
      "0.20923076923076922\n",
      "************\n",
      "************\n",
      "0.24615384615384617\n",
      "************\n",
      "************\n",
      "0.2876923076923077\n",
      "************\n"
     ]
    },
    {
     "name": "stderr",
     "output_type": "stream",
     "text": [
      " 50%|#####     | 20/40 [44:58<46:42, 140.13s/episodes]"
     ]
    },
    {
     "name": "stdout",
     "output_type": "stream",
     "text": [
      "************\n",
      "0.33076923076923076\n",
      "************\n",
      "<ipykernel.iostream.OutStream object at 0x7f4c1c5dc2e0> connecting to localhost port 8007\n",
      "************\n",
      "0.015384615384615385\n",
      "************\n",
      "************\n",
      "0.055384615384615386\n",
      "************\n",
      "************\n",
      "0.09384615384615384\n",
      "************\n",
      "************\n",
      "0.13076923076923078\n",
      "************\n",
      "************\n",
      "0.15076923076923077\n",
      "************\n",
      "************\n",
      "0.1753846153846154\n",
      "************\n",
      "************\n",
      "0.20307692307692307\n",
      "************\n",
      "************\n",
      "0.24461538461538462\n",
      "************\n",
      "************\n",
      "0.2907692307692308\n",
      "************\n"
     ]
    },
    {
     "name": "stderr",
     "output_type": "stream",
     "text": [
      " 52%|#####2    | 21/40 [47:48<47:09, 148.93s/episodes]"
     ]
    },
    {
     "name": "stdout",
     "output_type": "stream",
     "text": [
      "************\n",
      "0.3030769230769231\n",
      "************\n",
      "<ipykernel.iostream.OutStream object at 0x7f4c1c5dc2e0> connecting to localhost port 8007\n",
      "************\n",
      "0.015384615384615385\n",
      "************\n",
      "************\n",
      "0.06\n",
      "************\n",
      "************\n",
      "0.11384615384615385\n",
      "************\n",
      "************\n",
      "0.13846153846153847\n",
      "************\n",
      "************\n",
      "0.17692307692307693\n",
      "************\n",
      "************\n",
      "0.21076923076923076\n",
      "************\n",
      "************\n",
      "0.23692307692307693\n",
      "************\n",
      "************\n",
      "0.27384615384615385\n",
      "************\n"
     ]
    },
    {
     "name": "stderr",
     "output_type": "stream",
     "text": [
      " 55%|#####5    | 22/40 [50:21<45:00, 150.04s/episodes]"
     ]
    },
    {
     "name": "stdout",
     "output_type": "stream",
     "text": [
      "************\n",
      "0.32153846153846155\n",
      "************\n",
      "<ipykernel.iostream.OutStream object at 0x7f4c1c5dc2e0> connecting to localhost port 8007\n",
      "************\n",
      "0.013846153846153847\n",
      "************\n",
      "************\n",
      "0.06769230769230769\n",
      "************\n",
      "************\n",
      "0.11076923076923077\n",
      "************\n",
      "************\n",
      "0.15692307692307692\n",
      "************\n",
      "************\n",
      "0.18307692307692308\n",
      "************\n",
      "************\n",
      "0.19384615384615383\n",
      "************\n",
      "************\n",
      "0.2169230769230769\n",
      "************\n",
      "************\n",
      "0.2753846153846154\n",
      "************\n",
      "************\n",
      "0.2969230769230769\n",
      "************\n"
     ]
    },
    {
     "name": "stderr",
     "output_type": "stream",
     "text": [
      " 57%|#####7    | 23/40 [53:10<44:09, 155.88s/episodes]"
     ]
    },
    {
     "name": "stdout",
     "output_type": "stream",
     "text": [
      "************\n",
      "0.30615384615384617\n",
      "************\n",
      "<ipykernel.iostream.OutStream object at 0x7f4c1c5dc2e0> connecting to localhost port 8007\n",
      "************\n",
      "0.010769230769230769\n",
      "************\n",
      "************\n",
      "0.06769230769230769\n",
      "************\n",
      "************\n",
      "0.10461538461538461\n",
      "************\n",
      "************\n",
      "0.15692307692307692\n",
      "************\n",
      "************\n",
      "0.19846153846153847\n",
      "************\n",
      "************\n",
      "0.24923076923076923\n",
      "************\n",
      "************\n",
      "0.26615384615384613\n",
      "************\n",
      "************\n",
      "0.2876923076923077\n",
      "************\n"
     ]
    },
    {
     "name": "stderr",
     "output_type": "stream",
     "text": [
      " 60%|######    | 24/40 [55:43<41:18, 154.92s/episodes]"
     ]
    },
    {
     "name": "stdout",
     "output_type": "stream",
     "text": [
      "************\n",
      "0.4492307692307692\n",
      "************\n",
      "<ipykernel.iostream.OutStream object at 0x7f4c1c5dc2e0> connecting to localhost port 8007\n",
      "************\n",
      "0.009230769230769232\n",
      "************\n",
      "************\n",
      "0.024615384615384615\n",
      "************\n",
      "************\n",
      "0.0876923076923077\n",
      "************\n",
      "************\n",
      "0.1723076923076923\n",
      "************\n",
      "************\n",
      "0.22615384615384615\n",
      "************\n",
      "************\n",
      "0.24923076923076923\n",
      "************\n",
      "************\n",
      "0.27384615384615385\n",
      "************\n"
     ]
    },
    {
     "name": "stderr",
     "output_type": "stream",
     "text": [
      " 62%|######2   | 25/40 [57:59<37:18, 149.21s/episodes]"
     ]
    },
    {
     "name": "stdout",
     "output_type": "stream",
     "text": [
      "************\n",
      "0.30615384615384617\n",
      "************\n",
      "<ipykernel.iostream.OutStream object at 0x7f4c1c5dc2e0> connecting to localhost port 8007\n",
      "************\n",
      "0.010769230769230769\n",
      "************\n",
      "************\n",
      "0.03538461538461538\n",
      "************\n",
      "************\n",
      "0.06923076923076923\n",
      "************\n",
      "************\n",
      "0.11846153846153847\n",
      "************\n",
      "************\n",
      "0.1646153846153846\n",
      "************\n",
      "************\n",
      "0.18307692307692308\n",
      "************\n",
      "************\n",
      "0.21384615384615385\n",
      "************\n",
      "************\n",
      "0.24615384615384617\n",
      "************\n"
     ]
    },
    {
     "name": "stderr",
     "output_type": "stream",
     "text": [
      " 65%|######5   | 26/40 [1:00:31<35:03, 150.25s/episodes]"
     ]
    },
    {
     "name": "stdout",
     "output_type": "stream",
     "text": [
      "************\n",
      "0.32153846153846155\n",
      "************\n",
      "<ipykernel.iostream.OutStream object at 0x7f4c1c5dc2e0> connecting to localhost port 8007\n",
      "************\n",
      "0.009230769230769232\n",
      "************\n",
      "************\n",
      "0.03538461538461538\n",
      "************\n",
      "************\n",
      "0.08615384615384615\n",
      "************\n",
      "************\n",
      "0.14461538461538462\n",
      "************\n",
      "************\n",
      "0.16\n",
      "************\n",
      "************\n",
      "0.18307692307692308\n",
      "************\n",
      "************\n",
      "0.20923076923076922\n",
      "************\n",
      "************\n",
      "0.2276923076923077\n",
      "************\n",
      "************\n",
      "0.25384615384615383\n",
      "************\n",
      "************\n",
      "0.28923076923076924\n",
      "************\n"
     ]
    },
    {
     "name": "stderr",
     "output_type": "stream",
     "text": [
      " 68%|######7   | 27/40 [1:03:38<34:53, 161.08s/episodes]"
     ]
    },
    {
     "name": "stdout",
     "output_type": "stream",
     "text": [
      "************\n",
      "0.32769230769230767\n",
      "************\n",
      "<ipykernel.iostream.OutStream object at 0x7f4c1c5dc2e0> connecting to localhost port 8007\n",
      "************\n",
      "0.006153846153846154\n",
      "************\n",
      "************\n",
      "0.024615384615384615\n",
      "************\n",
      "************\n",
      "0.07230769230769231\n",
      "************\n",
      "************\n",
      "0.09538461538461539\n",
      "************\n",
      "************\n",
      "0.12461538461538461\n",
      "************\n",
      "************\n",
      "0.16615384615384615\n",
      "************\n",
      "************\n",
      "0.18615384615384614\n",
      "************\n",
      "************\n",
      "0.21076923076923076\n",
      "************\n",
      "************\n",
      "0.24153846153846154\n",
      "************\n",
      "************\n",
      "0.2876923076923077\n",
      "************\n"
     ]
    },
    {
     "name": "stderr",
     "output_type": "stream",
     "text": [
      " 70%|#######   | 28/40 [1:06:44<33:43, 168.66s/episodes]"
     ]
    },
    {
     "name": "stdout",
     "output_type": "stream",
     "text": [
      "************\n",
      "0.3153846153846154\n",
      "************\n",
      "<ipykernel.iostream.OutStream object at 0x7f4c1c5dc2e0> connecting to localhost port 8007\n",
      "************\n",
      "0.009230769230769232\n",
      "************\n",
      "************\n",
      "0.03538461538461538\n",
      "************\n",
      "************\n",
      "0.06\n",
      "************\n",
      "************\n",
      "0.1076923076923077\n",
      "************\n",
      "************\n",
      "0.14307692307692307\n",
      "************\n",
      "************\n",
      "0.18307692307692308\n",
      "************\n",
      "************\n",
      "0.20923076923076922\n",
      "************\n",
      "************\n",
      "0.22\n",
      "************\n"
     ]
    },
    {
     "name": "stderr",
     "output_type": "stream",
     "text": [
      " 72%|#######2  | 29/40 [1:09:17<30:02, 163.87s/episodes]"
     ]
    },
    {
     "name": "stdout",
     "output_type": "stream",
     "text": [
      "************\n",
      "0.3030769230769231\n",
      "************\n",
      "<ipykernel.iostream.OutStream object at 0x7f4c1c5dc2e0> connecting to localhost port 8007\n",
      "************\n",
      "0.006153846153846154\n",
      "************\n",
      "************\n",
      "0.043076923076923075\n",
      "************\n",
      "************\n",
      "0.07692307692307693\n",
      "************\n",
      "************\n",
      "0.11692307692307692\n",
      "************\n",
      "************\n",
      "0.1676923076923077\n",
      "************\n",
      "************\n",
      "0.20307692307692307\n",
      "************\n",
      "************\n",
      "0.22615384615384615\n",
      "************\n",
      "************\n",
      "0.2569230769230769\n",
      "************\n",
      "************\n",
      "0.2923076923076923\n",
      "************\n"
     ]
    },
    {
     "name": "stderr",
     "output_type": "stream",
     "text": [
      " 75%|#######5  | 30/40 [1:12:06<27:35, 165.58s/episodes]"
     ]
    },
    {
     "name": "stdout",
     "output_type": "stream",
     "text": [
      "************\n",
      "0.3030769230769231\n",
      "************\n",
      "<ipykernel.iostream.OutStream object at 0x7f4c1c5dc2e0> connecting to localhost port 8007\n",
      "************\n",
      "0.009230769230769232\n",
      "************\n",
      "************\n",
      "0.05076923076923077\n",
      "************\n",
      "************\n",
      "0.10153846153846154\n",
      "************\n",
      "************\n",
      "0.13846153846153847\n",
      "************\n",
      "************\n",
      "0.23384615384615384\n",
      "************\n"
     ]
    },
    {
     "name": "stderr",
     "output_type": "stream",
     "text": [
      " 78%|#######7  | 31/40 [1:13:48<21:59, 146.56s/episodes]"
     ]
    },
    {
     "name": "stdout",
     "output_type": "stream",
     "text": [
      "************\n",
      "0.4307692307692308\n",
      "************\n",
      "<ipykernel.iostream.OutStream object at 0x7f4c1c5dc2e0> connecting to localhost port 8007\n",
      "************\n",
      "0.010769230769230769\n",
      "************\n",
      "************\n",
      "0.023076923076923078\n",
      "************\n",
      "************\n",
      "0.08615384615384615\n",
      "************\n",
      "************\n",
      "0.12\n",
      "************\n",
      "************\n",
      "0.14307692307692307\n",
      "************\n",
      "************\n",
      "0.16153846153846155\n",
      "************\n",
      "************\n",
      "0.17692307692307693\n",
      "************\n",
      "************\n",
      "0.20153846153846153\n",
      "************\n",
      "************\n",
      "0.23076923076923078\n",
      "************\n",
      "************\n",
      "0.26\n",
      "************\n"
     ]
    },
    {
     "name": "stderr",
     "output_type": "stream",
     "text": [
      " 80%|########  | 32/40 [1:16:55<21:08, 158.53s/episodes]"
     ]
    },
    {
     "name": "stdout",
     "output_type": "stream",
     "text": [
      "************\n",
      "0.30153846153846153\n",
      "************\n",
      "<ipykernel.iostream.OutStream object at 0x7f4c1c5dc2e0> connecting to localhost port 8007\n",
      "************\n",
      "0.009230769230769232\n",
      "************\n",
      "************\n",
      "0.02923076923076923\n",
      "************\n",
      "************\n",
      "0.11076923076923077\n",
      "************\n",
      "************\n",
      "0.1646153846153846\n",
      "************\n",
      "************\n",
      "0.19692307692307692\n",
      "************\n",
      "************\n",
      "0.2246153846153846\n",
      "************\n",
      "************\n",
      "0.24615384615384617\n",
      "************\n",
      "************\n",
      "0.2676923076923077\n",
      "************\n",
      "************\n",
      "0.2923076923076923\n",
      "************\n"
     ]
    },
    {
     "name": "stderr",
     "output_type": "stream",
     "text": [
      " 82%|########2 | 33/40 [1:19:44<18:52, 161.81s/episodes]"
     ]
    },
    {
     "name": "stdout",
     "output_type": "stream",
     "text": [
      "************\n",
      "0.35384615384615387\n",
      "************\n",
      "<ipykernel.iostream.OutStream object at 0x7f4c1c5dc2e0> connecting to localhost port 8007\n",
      "************\n",
      "0.007692307692307693\n",
      "************\n",
      "************\n",
      "0.038461538461538464\n",
      "************\n",
      "************\n",
      "0.08461538461538462\n",
      "************\n",
      "************\n",
      "0.1276923076923077\n",
      "************\n",
      "************\n",
      "0.20461538461538462\n",
      "************\n",
      "************\n",
      "0.24769230769230768\n",
      "************\n",
      "************\n",
      "0.2692307692307692\n",
      "************\n",
      "************\n",
      "0.2907692307692308\n",
      "************\n"
     ]
    },
    {
     "name": "stderr",
     "output_type": "stream",
     "text": [
      " 85%|########5 | 34/40 [1:22:17<15:54, 159.07s/episodes]"
     ]
    },
    {
     "name": "stdout",
     "output_type": "stream",
     "text": [
      "************\n",
      "0.32769230769230767\n",
      "************\n",
      "<ipykernel.iostream.OutStream object at 0x7f4c1c5dc2e0> connecting to localhost port 8007\n",
      "************\n",
      "0.006153846153846154\n",
      "************\n",
      "************\n",
      "0.023076923076923078\n",
      "************\n",
      "************\n",
      "0.04923076923076923\n",
      "************\n",
      "************\n",
      "0.10615384615384615\n",
      "************\n",
      "************\n",
      "0.13846153846153847\n",
      "************\n",
      "************\n",
      "0.1676923076923077\n",
      "************\n",
      "************\n",
      "0.18615384615384614\n",
      "************\n",
      "************\n",
      "0.24153846153846154\n",
      "************\n",
      "************\n",
      "0.27692307692307694\n",
      "************\n"
     ]
    },
    {
     "name": "stderr",
     "output_type": "stream",
     "text": [
      " 88%|########7 | 35/40 [1:25:07<13:31, 162.23s/episodes]"
     ]
    },
    {
     "name": "stdout",
     "output_type": "stream",
     "text": [
      "************\n",
      "0.34923076923076923\n",
      "************\n",
      "<ipykernel.iostream.OutStream object at 0x7f4c1c5dc2e0> connecting to localhost port 8007\n",
      "************\n",
      "0.012307692307692308\n",
      "************\n",
      "************\n",
      "0.03230769230769231\n",
      "************\n",
      "************\n",
      "0.052307692307692305\n",
      "************\n",
      "************\n",
      "0.09384615384615384\n",
      "************\n",
      "************\n",
      "0.13076923076923078\n",
      "************\n",
      "************\n",
      "0.23076923076923078\n",
      "************\n",
      "************\n",
      "0.29384615384615387\n",
      "************\n"
     ]
    },
    {
     "name": "stderr",
     "output_type": "stream",
     "text": [
      " 90%|######### | 36/40 [1:27:22<10:17, 154.32s/episodes]"
     ]
    },
    {
     "name": "stdout",
     "output_type": "stream",
     "text": [
      "************\n",
      "0.3292307692307692\n",
      "************\n",
      "<ipykernel.iostream.OutStream object at 0x7f4c1c5dc2e0> connecting to localhost port 8007\n",
      "************\n",
      "0.015384615384615385\n",
      "************\n",
      "************\n",
      "0.03230769230769231\n",
      "************\n",
      "************\n",
      "0.08307692307692308\n",
      "************\n",
      "************\n",
      "0.14\n",
      "************\n",
      "************\n",
      "0.1676923076923077\n",
      "************\n",
      "************\n",
      "0.2630769230769231\n",
      "************\n",
      "************\n",
      "0.2923076923076923\n",
      "************\n"
     ]
    },
    {
     "name": "stderr",
     "output_type": "stream",
     "text": [
      " 92%|#########2| 37/40 [1:29:38<07:26, 148.78s/episodes]"
     ]
    },
    {
     "name": "stdout",
     "output_type": "stream",
     "text": [
      "************\n",
      "0.31384615384615383\n",
      "************\n",
      "<ipykernel.iostream.OutStream object at 0x7f4c1c5dc2e0> connecting to localhost port 8007\n",
      "************\n",
      "0.010769230769230769\n",
      "************\n",
      "************\n",
      "0.03076923076923077\n",
      "************\n",
      "************\n",
      "0.08923076923076922\n",
      "************\n",
      "************\n",
      "0.11692307692307692\n",
      "************\n",
      "************\n",
      "0.14923076923076922\n",
      "************\n",
      "************\n",
      "0.18\n",
      "************\n",
      "************\n",
      "0.20307692307692307\n",
      "************\n",
      "************\n",
      "0.22\n",
      "************\n",
      "************\n",
      "0.24615384615384617\n",
      "************\n",
      "************\n",
      "0.2815384615384615\n",
      "************\n"
     ]
    },
    {
     "name": "stderr",
     "output_type": "stream",
     "text": [
      " 95%|#########5| 38/40 [1:32:45<05:20, 160.08s/episodes]"
     ]
    },
    {
     "name": "stdout",
     "output_type": "stream",
     "text": [
      "************\n",
      "0.32153846153846155\n",
      "************\n",
      "<ipykernel.iostream.OutStream object at 0x7f4c1c5dc2e0> connecting to localhost port 8007\n",
      "************\n",
      "0.006153846153846154\n",
      "************\n",
      "************\n",
      "0.012307692307692308\n",
      "************\n",
      "************\n",
      "0.055384615384615386\n",
      "************\n",
      "************\n",
      "0.09230769230769231\n",
      "************\n",
      "************\n",
      "0.14461538461538462\n",
      "************\n",
      "************\n",
      "0.18153846153846154\n",
      "************\n",
      "************\n",
      "0.20461538461538462\n",
      "************\n",
      "************\n",
      "0.2553846153846154\n",
      "************\n"
     ]
    },
    {
     "name": "stderr",
     "output_type": "stream",
     "text": [
      " 98%|#########7| 39/40 [1:35:18<02:37, 157.88s/episodes]"
     ]
    },
    {
     "name": "stdout",
     "output_type": "stream",
     "text": [
      "************\n",
      "0.3292307692307692\n",
      "************\n",
      "<ipykernel.iostream.OutStream object at 0x7f4c1c5dc2e0> connecting to localhost port 8007\n",
      "************\n",
      "0.010769230769230769\n",
      "************\n",
      "************\n",
      "0.02923076923076923\n",
      "************\n",
      "************\n",
      "0.07538461538461538\n",
      "************\n",
      "************\n",
      "0.1076923076923077\n",
      "************\n",
      "************\n",
      "0.14153846153846153\n",
      "************\n",
      "************\n",
      "0.16307692307692306\n",
      "************\n",
      "************\n",
      "0.18153846153846154\n",
      "************\n",
      "************\n",
      "0.19846153846153847\n",
      "************\n",
      "************\n",
      "0.24307692307692308\n",
      "************\n",
      "************\n",
      "0.27692307692307694\n",
      "************\n"
     ]
    },
    {
     "name": "stderr",
     "output_type": "stream",
     "text": [
      "100%|##########| 40/40 [1:38:24<00:00, 147.61s/episodes]"
     ]
    },
    {
     "name": "stdout",
     "output_type": "stream",
     "text": [
      "************\n",
      "0.3123076923076923\n",
      "************\n"
     ]
    },
    {
     "name": "stderr",
     "output_type": "stream",
     "text": [
      "\n"
     ]
    }
   ],
   "source": [
    "# Iterate over episodes\n",
    "for episode in tqdm(range(1, EPISODES + 1), ascii=True, unit='episodes'):\n",
    "\n",
    "    # Restarting episode - reset episode reward and step number\n",
    "    episode_reward = 0\n",
    "    step = 1\n",
    "\n",
    "    # Reset environment and get initial state\n",
    "    #current_state = env.reset()\n",
    "    ##reset the environment\n",
    "    port = 8007\n",
    "    test = DroneLabRL(port)\n",
    "    test.initialize_enviornment()\n",
    "    test.time_step_length_seconds=15\n",
    "    \n",
    "    #observation = test.swarm_observation_space\n",
    "    test.build_state_observation()\n",
    "    current_state = test.state_observation  # num ppl, num ppl found\n",
    "\n",
    "    # Reset flag and start iterating until episode ends\n",
    "    while not test.done:\n",
    "        # This part stays mostly the same, the change is to query a model for Q values\n",
    "        if np.random.random() > epsilon:\n",
    "            # Get action from Q table\n",
    "            test.rl_action_to_take = np.argmax(agent.get_qs(current_state))\n",
    "            #set the self.action_dict to the particular role\n",
    "            test.select_rl_action()\n",
    "        else:\n",
    "            # Get random action\n",
    "            test.select_random_action()\n",
    "            \n",
    "        #######step######\n",
    "        test.step()\n",
    "        test.get_swarm_roles()\n",
    "        next_state = test.state_observation \n",
    "        reward = test.state_df.iloc[-1]['reward']\n",
    "        print(\"************\")\n",
    "        \n",
    "        print(test.state_df.iloc[-1]['num_survivors_found'] / test.state_df.iloc[-1]['initial_num_survivors'])\n",
    "        print(\"************\")\n",
    "\n",
    "        #next_state, reward, done, _ = env.step(action)\n",
    "\n",
    "        # Transform new continous state to new discrete state and count reward\n",
    "        episode_reward += reward\n",
    "\n",
    "#         if SHOW_PREVIEW and not episode % AGGREGATE_STATS_EVERY:\n",
    "#             env.render()\n",
    "\n",
    "        # Every step we update replay memory and train main network\n",
    "        agent.update_replay_memory((current_state, test.rl_action_to_take, reward, next_state, test.done))\n",
    "        agent.train(test.done, step)\n",
    "\n",
    "        current_state = next_state\n",
    "        step += 1\n",
    "\n",
    "    # Append episode reward to a list and log rewards (every given number of episodes)\n",
    "    ep_rewards.append(episode_reward)\n",
    "    if not episode % AGGREGATE_STATS_EVERY or episode == 1:\n",
    "        average_reward = sum(ep_rewards[-AGGREGATE_STATS_EVERY:])/len(ep_rewards[-AGGREGATE_STATS_EVERY:])\n",
    "        min_reward = min(ep_rewards[-AGGREGATE_STATS_EVERY:])\n",
    "        max_reward = max(ep_rewards[-AGGREGATE_STATS_EVERY:])\n",
    "        \n",
    "        aggr_ep_rewards['ep'].append(episode)\n",
    "        aggr_ep_rewards['avg'].append(average_reward)\n",
    "        aggr_ep_rewards['min'].append(min_reward)\n",
    "        aggr_ep_rewards['max'].append(max_reward)\n",
    "        \n",
    "#         agent.tensorboard.update_stats(reward_avg=average_reward, reward_min=min_reward, reward_max=max_reward, epsilon=epsilon)\n",
    "\n",
    "        # Save model, but only when min reward is greater or equal a set value\n",
    "#         if min_reward >= MIN_REWARD:\n",
    "#             agent.model.save(f'models/{MODEL_NAME}__{max_reward:_>7.2f}max_{average_reward:_>7.2f}avg_{min_reward:_>7.2f}min__{int(time.time())}.model')\n",
    "\n",
    "    # Decay epsilon\n",
    "    if epsilon > MIN_EPSILON:\n",
    "        epsilon *= EPSILON_DECAY\n",
    "        epsilon = max(MIN_EPSILON, epsilon)\n"
   ]
  },
  {
   "cell_type": "markdown",
   "metadata": {},
   "source": [
    "## Plot rewards"
   ]
  },
  {
   "cell_type": "code",
   "execution_count": 145,
   "metadata": {},
   "outputs": [
    {
     "data": {
      "text/plain": [
       "Text(0, 0.5, 'Rewards')"
      ]
     },
     "execution_count": 145,
     "metadata": {},
     "output_type": "execute_result"
    },
    {
     "data": {
      "image/png": "[encoded data removed]",
      "text/plain": [
       "<Figure size 432x288 with 1 Axes>"
      ]
     },
     "metadata": {
      "needs_background": "light"
     },
     "output_type": "display_data"
    }
   ],
   "source": [
    "plt.plot(aggr_ep_rewards['ep'], aggr_ep_rewards['avg'], label = 'avg')\n",
    "plt.plot(aggr_ep_rewards['ep'], aggr_ep_rewards['min'], label = 'min')\n",
    "plt.plot(aggr_ep_rewards['ep'], aggr_ep_rewards['max'], label = 'max')\n",
    "plt.legend(loc='upper left')\n",
    "plt.xlabel('Episodes')\n",
    "plt.ylabel('Rewards')"
   ]
  },
  {
   "cell_type": "code",
   "execution_count": null,
   "metadata": {},
   "outputs": [],
   "source": []
  }
 ],
 "metadata": {
  "kernelspec": {
   "display_name": "Python 3",
   "language": "python",
   "name": "python3"
  },
  "language_info": {
   "codemirror_mode": {
    "name": "ipython",
    "version": 3
   },
   "file_extension": ".py",
   "mimetype": "text/x-python",
   "name": "python",
   "nbconvert_exporter": "python",
   "pygments_lexer": "ipython3",
   "version": "3.8.5"
  }
 },
 "nbformat": 4,
 "nbformat_minor": 4
}
